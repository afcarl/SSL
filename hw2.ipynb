{
 "cells": [
  {
   "cell_type": "markdown",
   "metadata": {
    "deletable": false,
    "editable": false,
    "nbgrader": {
     "checksum": "5c6360403d7c651183520c08603fcf38",
     "grade": false,
     "grade_id": "cell-7bb7f8506dfae415",
     "locked": true,
     "schema_version": 1,
     "solution": false
    }
   },
   "source": [
    "# Homework 2\n",
    "**Instructions:**\n",
    "- Submit your code to github by the deadline.\n",
    "- DO NOT change paths (-3 points).\n",
    "- DO NOT submit data to github (-2 points)."
   ]
  },
  {
   "cell_type": "code",
   "execution_count": 1,
   "metadata": {
    "deletable": false,
    "editable": false,
    "nbgrader": {
     "checksum": "faa7d57db15637b9b55b67f9808b36b7",
     "grade": false,
     "grade_id": "cell-963eb775c60d3928",
     "locked": true,
     "schema_version": 1,
     "solution": false
    }
   },
   "outputs": [],
   "source": [
    "import numpy as np\n",
    "import pandas as pd"
   ]
  },
  {
   "cell_type": "markdown",
   "metadata": {
    "deletable": false,
    "editable": false,
    "nbgrader": {
     "checksum": "60c90f6e90c22dc6ebda523037854db1",
     "grade": false,
     "grade_id": "cell-4c6cc62f82ecc43c",
     "locked": true,
     "schema_version": 1,
     "solution": false
    }
   },
   "source": [
    "## Problem 1: log loss\n",
    "**(a)** You have a classification problem with 3 classes: \"cat\", \"dog\", \"bird\". For your test observation is a \"dog\". Your model give you the following prediction for that observation (0.1, 0.5, 0.4). What is the accuracy? What is the log loss?\n",
    "\n",
    "**(b)** Suppose that you are submitting to a Kaggle competition. You are solving a binary classification task being evaluated by log loss metric. You suspect train and test target distributions are different, you submit a constant predition of 0.3 and to the public LB and get a score of 1.01. Mean of target variable in train is 0.44. What is the mean of target variable in public part of test data? Explain how you derive the results."
   ]
  },
  {
   "cell_type": "code",
   "execution_count": 2,
   "metadata": {
    "deletable": false,
    "nbgrader": {
     "checksum": "9326fdec6b371a1eb9b833261a7e8247",
     "grade": true,
     "grade_id": "cell-c82df83e145eadb0",
     "locked": false,
     "points": 2,
     "schema_version": 1,
     "solution": true
    }
   },
   "outputs": [
    {
     "name": "stdout",
     "output_type": "stream",
     "text": [
      "Accuracy = 1\n",
      "Log Loss = 0.6931471805599453\n"
     ]
    }
   ],
   "source": [
    "# YOUR CODE HERE\n",
    "# YOUR CODE HERE\n",
    "prediction = [0.1, 0.5, 0.4]\n",
    "actual = [0, 1, 0]\n",
    "if np.argmax(prediction) == np.argmax(actual): print('Accuracy = 1')      \n",
    "print('Log Loss = ' + str(-np.log(prediction[np.argmax(actual)])))\n",
    "    \n",
    "      \n",
    "#raise NotImplementedError()\n",
    "#raise NotImplementedError()"
   ]
  },
  {
   "cell_type": "markdown",
   "metadata": {
    "deletable": false,
    "nbgrader": {
     "checksum": "2244343e72ff6bce546993f3fef1aac5",
     "grade": true,
     "grade_id": "cell-a2638ff2cc953f08",
     "locked": false,
     "points": 2,
     "schema_version": 1,
     "solution": true
    }
   },
   "source": [
    "YOUR ANSWER HERE\n",
    "\n",
    "Here, we know that log loss is 1.01 and p = 0.3. Thus, \n",
    "\n",
    "$ 1.01 = y * \\log(p) + (1 - y)*\\log(1-0.3) $\n",
    "\n",
    "Solving this, we get $y$ which is the probability of the negative class. So we get the mean as $1 - y$."
   ]
  },
  {
   "cell_type": "code",
   "execution_count": 3,
   "metadata": {
    "deletable": false,
    "nbgrader": {
     "checksum": "b3f0e633f014a2ebb5801c768891daa1",
     "grade": true,
     "grade_id": "cell-d9101ca9ed47f098",
     "locked": false,
     "points": 1,
     "schema_version": 1,
     "solution": true
    }
   },
   "outputs": [
    {
     "name": "stdout",
     "output_type": "stream",
     "text": [
      "Mean target = 0.22893106827543863\n"
     ]
    }
   ],
   "source": [
    "# YOUR CODE HERE\n",
    "y = -(1.01 + np.log(0.7))/np.log(0.3/0.7)\n",
    "y # Probability of negative class\n",
    "print('Mean target = ' + str(1-y))\n",
    "#raise NotImplementedError()"
   ]
  },
  {
   "cell_type": "markdown",
   "metadata": {
    "deletable": false,
    "editable": false,
    "nbgrader": {
     "checksum": "ab665ee9f0504368b7cb36d7ca41be20",
     "grade": false,
     "grade_id": "cell-9aed1b87140d15c7",
     "locked": true,
     "schema_version": 1,
     "solution": false
    }
   },
   "source": [
    "## Problem 2: AUC\n",
    "Compute AUC score by hand with the formula explained in class for the following dataset."
   ]
  },
  {
   "cell_type": "code",
   "execution_count": 4,
   "metadata": {
    "deletable": false,
    "editable": false,
    "nbgrader": {
     "checksum": "7c0e0d0db32cc22cded8f253620c101c",
     "grade": false,
     "grade_id": "cell-d54a5c5492c74c18",
     "locked": true,
     "schema_version": 1,
     "solution": false
    }
   },
   "outputs": [
    {
     "data": {
      "text/html": [
       "<div>\n",
       "<style scoped>\n",
       "    .dataframe tbody tr th:only-of-type {\n",
       "        vertical-align: middle;\n",
       "    }\n",
       "\n",
       "    .dataframe tbody tr th {\n",
       "        vertical-align: top;\n",
       "    }\n",
       "\n",
       "    .dataframe thead th {\n",
       "        text-align: right;\n",
       "    }\n",
       "</style>\n",
       "<table border=\"1\" class=\"dataframe\">\n",
       "  <thead>\n",
       "    <tr style=\"text-align: right;\">\n",
       "      <th></th>\n",
       "      <th>prediction</th>\n",
       "      <th>y</th>\n",
       "    </tr>\n",
       "  </thead>\n",
       "  <tbody>\n",
       "    <tr>\n",
       "      <th>0</th>\n",
       "      <td>0.10</td>\n",
       "      <td>1</td>\n",
       "    </tr>\n",
       "    <tr>\n",
       "      <th>1</th>\n",
       "      <td>0.50</td>\n",
       "      <td>0</td>\n",
       "    </tr>\n",
       "    <tr>\n",
       "      <th>2</th>\n",
       "      <td>0.95</td>\n",
       "      <td>1</td>\n",
       "    </tr>\n",
       "    <tr>\n",
       "      <th>3</th>\n",
       "      <td>0.99</td>\n",
       "      <td>1</td>\n",
       "    </tr>\n",
       "    <tr>\n",
       "      <th>4</th>\n",
       "      <td>0.80</td>\n",
       "      <td>1</td>\n",
       "    </tr>\n",
       "    <tr>\n",
       "      <th>5</th>\n",
       "      <td>0.40</td>\n",
       "      <td>1</td>\n",
       "    </tr>\n",
       "    <tr>\n",
       "      <th>6</th>\n",
       "      <td>0.03</td>\n",
       "      <td>0</td>\n",
       "    </tr>\n",
       "    <tr>\n",
       "      <th>7</th>\n",
       "      <td>0.44</td>\n",
       "      <td>0</td>\n",
       "    </tr>\n",
       "    <tr>\n",
       "      <th>8</th>\n",
       "      <td>0.20</td>\n",
       "      <td>0</td>\n",
       "    </tr>\n",
       "  </tbody>\n",
       "</table>\n",
       "</div>"
      ],
      "text/plain": [
       "   prediction  y\n",
       "0        0.10  1\n",
       "1        0.50  0\n",
       "2        0.95  1\n",
       "3        0.99  1\n",
       "4        0.80  1\n",
       "5        0.40  1\n",
       "6        0.03  0\n",
       "7        0.44  0\n",
       "8        0.20  0"
      ]
     },
     "execution_count": 4,
     "metadata": {},
     "output_type": "execute_result"
    }
   ],
   "source": [
    "d = pd.DataFrame({\n",
    "        'prediction': [0.1, 0.5, 0.95, 0.99, 0.8, 0.4, 0.03, 0.44, 0.2],\n",
    "        'y': [1, 0, 1, 1, 1, 1, 0, 0, 0]})\n",
    "d"
   ]
  },
  {
   "cell_type": "markdown",
   "metadata": {
    "deletable": false,
    "editable": false,
    "nbgrader": {
     "checksum": "d2cfa48c353b5a795097092af3a66433",
     "grade": false,
     "grade_id": "cell-e2d5af5c0b163de9",
     "locked": true,
     "schema_version": 1,
     "solution": false
    }
   },
   "source": [
    "AUC is the probability a randomly-chosen positive example is ranked more highly than a randomly-chosen negative example. It can be computed as the ratio of\n",
    "\n",
    "$$1 - \\frac{\\text{number of pairs example wrongly ordered }}{\\text{number of pairs (positive, negative)}}$$"
   ]
  },
  {
   "cell_type": "code",
   "execution_count": 5,
   "metadata": {
    "deletable": false,
    "nbgrader": {
     "checksum": "32a1838d9cfd84e0120023e1a787793c",
     "grade": true,
     "grade_id": "cell-b5c4e063540eebfb",
     "locked": false,
     "points": 3,
     "schema_version": 1,
     "solution": true
    }
   },
   "outputs": [
    {
     "name": "stdout",
     "output_type": "stream",
     "text": [
      "0.9\n"
     ]
    }
   ],
   "source": [
    "# YOUR CODE HERE\n",
    "# YOUR CODE HERE\n",
    "total = sum(d['y'] == 0) * sum(d['y'] == 1)\n",
    "d = d.sort_values(['prediction'])\n",
    "wrong = 0\n",
    "for i in range(d.shape[0] - 1):\n",
    "    if d.loc[i]['y'] > d.loc[i+1]['y']:\n",
    "        wrong = wrong + 1\n",
    "auc = 1 - (wrong/total)\n",
    "print(auc)\n",
    "#raise NotImplementedError()"
   ]
  },
  {
   "cell_type": "markdown",
   "metadata": {
    "deletable": false,
    "editable": false,
    "nbgrader": {
     "checksum": "5cc1b1bbaf5bf0763dbfdd72c0a500f2",
     "grade": false,
     "grade_id": "cell-cc56ff567f83c54c",
     "locked": true,
     "schema_version": 1,
     "solution": false
    }
   },
   "source": [
    "## Problem 3: Regularized mean (target) encoding for Avazu competition\n",
    "\n",
    "For this problem you will implement a version of regularized mean encoding. We will be using the data on this Kaggle [compettion](https://www.kaggle.com/c/avazu-ctr-prediction).  \n",
    "\n",
    "**Instructions:**\n",
    "- Split data (training) into training and validation. Take the last week (7 days) of training set as validation.\n",
    "- Implement regularized mean encoding for the training set using pandas.\n",
    "- Implement mean encoding for the validation set"
   ]
  },
  {
   "cell_type": "code",
   "execution_count": 6,
   "metadata": {
    "deletable": false,
    "editable": false,
    "nbgrader": {
     "checksum": "98c1c32735a923591ccc8354da222f26",
     "grade": false,
     "grade_id": "cell-6714619fcc6c6243",
     "locked": true,
     "schema_version": 1,
     "solution": false
    }
   },
   "outputs": [],
   "source": [
    "## Split train and validation \n",
    "# get sample data first\n",
    "path = \"avazu/\"\n",
    "!head -100000 $path/train > $path/train_sample.csv\n",
    "!head -100000 $path/test > $path/test_sample.csv\n",
    "data = pd.read_csv(path + \"train_sample.csv\")\n",
    "test = pd.read_csv(path + \"test_sample.csv\")"
   ]
  },
  {
   "cell_type": "code",
   "execution_count": 7,
   "metadata": {
    "deletable": false,
    "editable": false,
    "nbgrader": {
     "checksum": "283db1f0a18a247feb2d9101de4df5dc",
     "grade": false,
     "grade_id": "cell-3247c5546454354b",
     "locked": true,
     "schema_version": 1,
     "solution": false
    }
   },
   "outputs": [],
   "source": [
    "def split_based_hour(data):\n",
    "    \"\"\" Split data based on column hour.\n",
    "    \n",
    "    Use 20% of the date for validation.\n",
    "    Inputs:\n",
    "       data: dataframe from avazu\n",
    "    Returns:\n",
    "       train:\n",
    "       val: 20% of the largest values of column \"hour\".\n",
    "    \"\"\"\n",
    "    N = int(0.8*len(data))\n",
    "    data = data.sort_values(by=\"hour\")\n",
    "    train = data[:N].copy()\n",
    "    val = data[N:].copy()\n",
    "    return train.reset_index(), val.reset_index()\n",
    "train, val = split_based_hour(data)"
   ]
  },
  {
   "cell_type": "markdown",
   "metadata": {
    "deletable": false,
    "editable": false,
    "nbgrader": {
     "checksum": "160febfee5ae9e860499d532ea6c707b",
     "grade": false,
     "grade_id": "cell-452970eca3e65752",
     "locked": true,
     "schema_version": 1,
     "solution": false
    }
   },
   "source": [
    "### Regularized mean encoding \n",
    "Here is how you do mean encoding without regularization."
   ]
  },
  {
   "cell_type": "code",
   "execution_count": 8,
   "metadata": {
    "deletable": false,
    "editable": false,
    "nbgrader": {
     "checksum": "cfcd19e7cc09803027236f34319a5938",
     "grade": false,
     "grade_id": "cell-77c4b82107ebcc48",
     "locked": true,
     "schema_version": 1,
     "solution": false
    }
   },
   "outputs": [
    {
     "data": {
      "text/plain": [
       "device_type\n",
       "0    0.224277\n",
       "1    0.176116\n",
       "4    0.069777\n",
       "5    0.083333\n",
       "Name: click, dtype: float64"
      ]
     },
     "execution_count": 8,
     "metadata": {},
     "output_type": "execute_result"
    }
   ],
   "source": [
    "# Calculate a mapping: {device_type: click_mean}\n",
    "mean_device_type = train.groupby('device_type').click.mean()\n",
    "mean_device_type"
   ]
  },
  {
   "cell_type": "code",
   "execution_count": 9,
   "metadata": {
    "deletable": false,
    "editable": false,
    "nbgrader": {
     "checksum": "33a2b7ea42f7250ca63e72662f7c1f80",
     "grade": false,
     "grade_id": "cell-ed1cc1dcf31b6592",
     "locked": true,
     "schema_version": 1,
     "solution": false
    }
   },
   "outputs": [
    {
     "data": {
      "text/plain": [
       "0.17477718471480894"
      ]
     },
     "execution_count": 9,
     "metadata": {},
     "output_type": "execute_result"
    }
   ],
   "source": [
    "# This is the global click mean\n",
    "global_mean = train.click.mean()\n",
    "global_mean"
   ]
  },
  {
   "cell_type": "code",
   "execution_count": 10,
   "metadata": {
    "deletable": false,
    "editable": false,
    "nbgrader": {
     "checksum": "e6da1f98a3600a0e0c8d0d3f5a0b6e92",
     "grade": false,
     "grade_id": "cell-b18e26077498e310",
     "locked": true,
     "schema_version": 1,
     "solution": false
    }
   },
   "outputs": [],
   "source": [
    "train[\"device_type_mean_enc\"] = train[\"device_type\"].map(mean_device_type)\n",
    "val[\"device_type_mean_enc\"] = val[\"device_type\"].map(mean_device_type)"
   ]
  },
  {
   "cell_type": "code",
   "execution_count": 11,
   "metadata": {
    "deletable": false,
    "editable": false,
    "nbgrader": {
     "checksum": "6c7bbb2f5b95852108d0a52d3955c184",
     "grade": false,
     "grade_id": "cell-3738c83f6ed83558",
     "locked": true,
     "schema_version": 1,
     "solution": false
    }
   },
   "outputs": [],
   "source": [
    "train[\"device_type_mean_enc\"].fillna(global_mean, inplace=True)\n",
    "val[\"device_type_mean_enc\"].fillna(global_mean, inplace=True)"
   ]
  },
  {
   "cell_type": "code",
   "execution_count": 12,
   "metadata": {
    "deletable": false,
    "editable": false,
    "nbgrader": {
     "checksum": "5027fe3d503aed56fb0b1936334d6901",
     "grade": false,
     "grade_id": "cell-a02b93e0e675fcfc",
     "locked": true,
     "schema_version": 1,
     "solution": false
    }
   },
   "outputs": [
    {
     "name": "stdout",
     "output_type": "stream",
     "text": [
      "0.0530389229998215\n"
     ]
    }
   ],
   "source": [
    "# Print correlation\n",
    "encoded_feature = val[\"device_type_mean_enc\"].values\n",
    "print(np.corrcoef(val[\"click\"].values, encoded_feature)[0][1])"
   ]
  },
  {
   "cell_type": "markdown",
   "metadata": {
    "deletable": false,
    "editable": false,
    "nbgrader": {
     "checksum": "53f9c475060eb35dde22ef1fb8815531",
     "grade": false,
     "grade_id": "cell-bcfd0241d1bbc117",
     "locked": true,
     "schema_version": 1,
     "solution": false
    }
   },
   "source": [
    "To do mean encoding with K-fold regularization you do the following:\n",
    "\n",
    "* Run a 5-fold split on train data where `mean_device_type` is computed on 4/5 of the data and the encoding is computed on the other 1/5.\n",
    "* To compute mean encoding on the validation data use the code similar to encoding without regularization. That is compute on all the training data and apply to the validation set."
   ]
  },
  {
   "cell_type": "code",
   "execution_count": 13,
   "metadata": {
    "deletable": false,
    "nbgrader": {
     "checksum": "7a342519715706a0152213f7bd22ccc1",
     "grade": false,
     "grade_id": "cell-775e47f5b0194cbe",
     "locked": false,
     "schema_version": 1,
     "solution": true
    }
   },
   "outputs": [],
   "source": [
    "from sklearn.model_selection import KFold\n",
    "\n",
    "def reg_target_encoding(train, col = \"device_type\", splits=5):\n",
    "    \"\"\" Computes regularize mean encoding.\n",
    "    Inputs:\n",
    "       train: training dataframe\n",
    "       \n",
    "    \"\"\"\n",
    "    # YOUR CODE HERE\n",
    "    col_name = col + '_mean_enc'\n",
    "    kf = KFold(n_splits = splits, shuffle = False, random_state = 2)\n",
    "    s = kf.split(train)\n",
    "    for i in range(splits):\n",
    "        train_index, test_index = next(s)\n",
    "        mean_device_type = train.loc[train_index].groupby(col).click.mean()\n",
    "        train.loc[test_index,col_name] = train[col].map(mean_device_type)\n",
    "    global_mean = train.click.mean()\n",
    "    train[col_name].fillna(global_mean, inplace=True)\n",
    "    #raise NotImplementedError()"
   ]
  },
  {
   "cell_type": "code",
   "execution_count": 14,
   "metadata": {
    "deletable": false,
    "editable": false,
    "nbgrader": {
     "checksum": "06db617336e33141cf8db2cbf18cb2a6",
     "grade": true,
     "grade_id": "cell-b4683b910e8c7ca9",
     "locked": true,
     "points": 5,
     "schema_version": 1,
     "solution": false
    }
   },
   "outputs": [],
   "source": [
    "reg_target_encoding(train) \n",
    "encoded_feature = train[\"device_type_mean_enc\"].values\n",
    "corr = np.corrcoef(train[\"click\"].values, encoded_feature)[0][1]\n",
    "assert(np.around(corr, decimals=4) == 0.0551)"
   ]
  },
  {
   "cell_type": "code",
   "execution_count": 15,
   "metadata": {
    "deletable": false,
    "nbgrader": {
     "checksum": "36df06691ec8fc0c9bc155537f014d91",
     "grade": false,
     "grade_id": "cell-72af369cd137b75b",
     "locked": false,
     "schema_version": 1,
     "solution": true
    }
   },
   "outputs": [],
   "source": [
    "def mean_encoding_test(test, train, col = \"device_type\"):\n",
    "    \"\"\" Computes target enconding for test data.\n",
    "    \n",
    "    This is similar to how we do validation\n",
    "    \"\"\"\n",
    "    # YOUR CODE HERE\n",
    "    col_name = col + '_mean_enc'\n",
    "    mean_device_type = train.groupby(col).click.mean()\n",
    "    global_mean = train.click.mean()\n",
    "    test[col_name] = test[col].map(mean_device_type)\n",
    "    test[col_name].fillna(global_mean, inplace=True)\n",
    "\n",
    "\n",
    "    #raise NotImplementedError()"
   ]
  },
  {
   "cell_type": "code",
   "execution_count": 16,
   "metadata": {
    "deletable": false,
    "editable": false,
    "nbgrader": {
     "checksum": "cb997cc70af17c110f9f92aaab3acdc7",
     "grade": true,
     "grade_id": "cell-ec2e728bbd5de8b3",
     "locked": true,
     "points": 2,
     "schema_version": 1,
     "solution": false
    }
   },
   "outputs": [],
   "source": [
    "mean_encoding_test(test, train) \n",
    "encoded_feature_mean = test[\"device_type_mean_enc\"].values.mean()\n",
    "assert(np.around(encoded_feature_mean, decimals=4) == 0.177)"
   ]
  },
  {
   "cell_type": "markdown",
   "metadata": {
    "deletable": false,
    "editable": false,
    "nbgrader": {
     "checksum": "43b47a071f2f20a0196abb6d814687e2",
     "grade": false,
     "grade_id": "cell-eb09ee7786ad32c2",
     "locked": true,
     "schema_version": 1,
     "solution": false
    }
   },
   "source": [
    "## Problem 4: Implement other features and fit a model (10 points)\n",
    "* Implement a few more features, include:\n",
    "   * day of the week and hour\n",
    "   * mean encoding of some other features (at least two)\n",
    "   * use plots and `value_counts()` to understand the data\n",
    "\n",
    "* Fit a random forest (to the whole dataset)\n",
    "   * Do hyperparameter tunning using your validation set\n",
    "   * Report test and train log loss"
   ]
  },
  {
   "cell_type": "code",
   "execution_count": 17,
   "metadata": {},
   "outputs": [],
   "source": [
    "%matplotlib inline\n",
    "from datetime import timedelta\n",
    "import matplotlib.pyplot as plt\n",
    "from sklearn.ensemble import RandomForestClassifier\n",
    "from sklearn.metrics import log_loss"
   ]
  },
  {
   "cell_type": "code",
   "execution_count": 18,
   "metadata": {},
   "outputs": [],
   "source": [
    "plt.rcParams['figure.figsize'] = [13, 5]\n",
    "plt.rcParams['agg.path.chunksize'] = 10000"
   ]
  },
  {
   "cell_type": "markdown",
   "metadata": {},
   "source": [
    "### Load train and test files"
   ]
  },
  {
   "cell_type": "code",
   "execution_count": 19,
   "metadata": {
    "deletable": false,
    "editable": false,
    "nbgrader": {
     "checksum": "4b2ee7b245a73446da29cd2cb69fd8e2",
     "grade": false,
     "grade_id": "cell-e5b525e48f90cc37",
     "locked": true,
     "schema_version": 1,
     "solution": false
    }
   },
   "outputs": [],
   "source": [
    "def load_data():\n",
    "    path = \"avazu/\"\n",
    "    data = pd.read_csv(path + \"train\")\n",
    "    test = pd.read_csv(path + \"test\")\n",
    "    return data, test"
   ]
  },
  {
   "cell_type": "code",
   "execution_count": 20,
   "metadata": {},
   "outputs": [
    {
     "name": "stdout",
     "output_type": "stream",
     "text": [
      "<class 'pandas.core.frame.DataFrame'>\n",
      "RangeIndex: 40428967 entries, 0 to 40428966\n",
      "Data columns (total 23 columns):\n",
      "click               uint8\n",
      "hour                uint32\n",
      "C1                  uint32\n",
      "banner_pos          uint32\n",
      "site_id             category\n",
      "site_domain         category\n",
      "site_category       category\n",
      "app_id              category\n",
      "app_domain          category\n",
      "app_category        category\n",
      "device_id           category\n",
      "device_ip           category\n",
      "device_model        category\n",
      "device_type         uint8\n",
      "device_conn_type    uint8\n",
      "C14                 uint16\n",
      "C15                 uint16\n",
      "C16                 uint16\n",
      "C17                 uint16\n",
      "C18                 uint16\n",
      "C19                 uint16\n",
      "C20                 uint16\n",
      "C21                 uint16\n",
      "dtypes: category(9), uint16(8), uint32(3), uint8(3)\n",
      "memory usage: 2.4 GB\n"
     ]
    }
   ],
   "source": [
    "# data, test = load_data()\n",
    "path = \"avazu/\"\n",
    "types = {'click': np.uint8, 'hour': np.uint32, 'C1': np.uint32, 'banner_pos': np.uint32,\n",
    "         'site_id': 'category', 'site_domain': 'category', 'site_category': 'category', 'app_id': 'category',\n",
    "         'app_domain': 'category', 'app_category': 'category', 'device_id': 'category',\n",
    "         'device_ip': 'category', 'device_model': 'category', 'device_type': np.uint8, 'device_conn_type': np.uint8,\n",
    "         'C14': np.uint16, 'C15': np.uint16, 'C16': np.uint16, 'C17': np.uint16, 'C18': np.uint16, 'C19': np.uint16,\n",
    "         'C20': np.uint16, 'C21': np.uint16}\n",
    "test_types = { 'hour': np.uint32, 'C1': np.uint32, 'banner_pos': np.uint32,\n",
    "         'site_id': 'category', 'site_domain': 'category', 'site_category': 'category', 'app_id': 'category',\n",
    "         'app_domain': 'category', 'app_category': 'category', 'device_id': 'category',\n",
    "         'device_ip': 'category', 'device_model': 'category', 'device_type': np.uint8, 'device_conn_type': np.uint8,\n",
    "         'C14': np.uint16, 'C15': np.uint16, 'C16': np.uint16, 'C17': np.uint16, 'C18': np.uint16, 'C19': np.uint16,\n",
    "         'C20': np.uint16, 'C21': np.uint16}\n",
    "data = pd.read_csv(path + \"train\", usecols=types.keys(), dtype=types)\n",
    "test = pd.read_csv(path + 'test', usecols=test_types.keys(), dtype=test_types)\n",
    "# print(data.info(memory_usage=True))\n",
    "# print(test.info(memory_usage=True))\n",
    "data.info(memory_usage = True)\n"
   ]
  },
  {
   "cell_type": "markdown",
   "metadata": {},
   "source": [
    "### Convert object to categorical"
   ]
  },
  {
   "cell_type": "code",
   "execution_count": 21,
   "metadata": {},
   "outputs": [
    {
     "data": {
      "text/plain": [
       "Index(['site_id', 'site_domain', 'site_category', 'app_id', 'app_domain',\n",
       "       'app_category', 'device_id', 'device_ip', 'device_model'],\n",
       "      dtype='object')"
      ]
     },
     "execution_count": 21,
     "metadata": {},
     "output_type": "execute_result"
    }
   ],
   "source": [
    "cols = data.select_dtypes('category').columns\n",
    "cols"
   ]
  },
  {
   "cell_type": "code",
   "execution_count": 22,
   "metadata": {},
   "outputs": [],
   "source": [
    "def train_cats(cols, df):\n",
    "    for col in cols:\n",
    "        df[col] = df[col].astype('category').cat.as_ordered()\n",
    "\n",
    "def apply_cats(cols, train, test):\n",
    "    for col in cols:\n",
    "            test[col] = pd.Categorical(test[col], categories=train[col].cat.categories, ordered=True)\n",
    "\n",
    "def convert_codes(df, cols):\n",
    "    for col in cols:\n",
    "        df[col] = df[col].cat.codes+1            "
   ]
  },
  {
   "cell_type": "code",
   "execution_count": 23,
   "metadata": {},
   "outputs": [],
   "source": [
    "train_cats(cols, data)\n",
    "apply_cats(cols, data, test)\n",
    "convert_codes(data, cols)\n",
    "convert_codes(test, cols)"
   ]
  },
  {
   "cell_type": "markdown",
   "metadata": {},
   "source": [
    "### Create date related features"
   ]
  },
  {
   "cell_type": "code",
   "execution_count": 24,
   "metadata": {},
   "outputs": [
    {
     "data": {
      "text/html": [
       "<div>\n",
       "<style scoped>\n",
       "    .dataframe tbody tr th:only-of-type {\n",
       "        vertical-align: middle;\n",
       "    }\n",
       "\n",
       "    .dataframe tbody tr th {\n",
       "        vertical-align: top;\n",
       "    }\n",
       "\n",
       "    .dataframe thead th {\n",
       "        text-align: right;\n",
       "    }\n",
       "</style>\n",
       "<table border=\"1\" class=\"dataframe\">\n",
       "  <thead>\n",
       "    <tr style=\"text-align: right;\">\n",
       "      <th></th>\n",
       "      <th>hour</th>\n",
       "      <th>C1</th>\n",
       "      <th>banner_pos</th>\n",
       "      <th>site_id</th>\n",
       "      <th>site_domain</th>\n",
       "      <th>site_category</th>\n",
       "      <th>app_id</th>\n",
       "      <th>app_domain</th>\n",
       "      <th>app_category</th>\n",
       "      <th>device_id</th>\n",
       "      <th>...</th>\n",
       "      <th>C14</th>\n",
       "      <th>C15</th>\n",
       "      <th>C16</th>\n",
       "      <th>C17</th>\n",
       "      <th>C18</th>\n",
       "      <th>C19</th>\n",
       "      <th>C20</th>\n",
       "      <th>C21</th>\n",
       "      <th>day_of_week</th>\n",
       "      <th>hour_of_day</th>\n",
       "    </tr>\n",
       "  </thead>\n",
       "  <tbody>\n",
       "    <tr>\n",
       "      <th>0</th>\n",
       "      <td>2014-10-31</td>\n",
       "      <td>1005</td>\n",
       "      <td>0</td>\n",
       "      <td>906</td>\n",
       "      <td>892</td>\n",
       "      <td>13</td>\n",
       "      <td>470</td>\n",
       "      <td>19</td>\n",
       "      <td>1</td>\n",
       "      <td>2045</td>\n",
       "      <td>...</td>\n",
       "      <td>8330</td>\n",
       "      <td>320</td>\n",
       "      <td>50</td>\n",
       "      <td>761</td>\n",
       "      <td>3</td>\n",
       "      <td>175</td>\n",
       "      <td>34539</td>\n",
       "      <td>23</td>\n",
       "      <td>4</td>\n",
       "      <td>0</td>\n",
       "    </tr>\n",
       "    <tr>\n",
       "      <th>1</th>\n",
       "      <td>2014-10-31</td>\n",
       "      <td>1005</td>\n",
       "      <td>0</td>\n",
       "      <td>69</td>\n",
       "      <td>489</td>\n",
       "      <td>3</td>\n",
       "      <td>470</td>\n",
       "      <td>19</td>\n",
       "      <td>1</td>\n",
       "      <td>2045</td>\n",
       "      <td>...</td>\n",
       "      <td>22676</td>\n",
       "      <td>320</td>\n",
       "      <td>50</td>\n",
       "      <td>2616</td>\n",
       "      <td>0</td>\n",
       "      <td>35</td>\n",
       "      <td>34547</td>\n",
       "      <td>51</td>\n",
       "      <td>4</td>\n",
       "      <td>0</td>\n",
       "    </tr>\n",
       "    <tr>\n",
       "      <th>2</th>\n",
       "      <td>2014-10-31</td>\n",
       "      <td>1005</td>\n",
       "      <td>0</td>\n",
       "      <td>69</td>\n",
       "      <td>489</td>\n",
       "      <td>3</td>\n",
       "      <td>470</td>\n",
       "      <td>19</td>\n",
       "      <td>1</td>\n",
       "      <td>2045</td>\n",
       "      <td>...</td>\n",
       "      <td>22676</td>\n",
       "      <td>320</td>\n",
       "      <td>50</td>\n",
       "      <td>2616</td>\n",
       "      <td>0</td>\n",
       "      <td>35</td>\n",
       "      <td>34547</td>\n",
       "      <td>51</td>\n",
       "      <td>4</td>\n",
       "      <td>0</td>\n",
       "    </tr>\n",
       "    <tr>\n",
       "      <th>3</th>\n",
       "      <td>2014-10-31</td>\n",
       "      <td>1005</td>\n",
       "      <td>0</td>\n",
       "      <td>309</td>\n",
       "      <td>395</td>\n",
       "      <td>6</td>\n",
       "      <td>160</td>\n",
       "      <td>27</td>\n",
       "      <td>3</td>\n",
       "      <td>2045</td>\n",
       "      <td>...</td>\n",
       "      <td>18648</td>\n",
       "      <td>320</td>\n",
       "      <td>50</td>\n",
       "      <td>1092</td>\n",
       "      <td>3</td>\n",
       "      <td>809</td>\n",
       "      <td>34620</td>\n",
       "      <td>61</td>\n",
       "      <td>4</td>\n",
       "      <td>0</td>\n",
       "    </tr>\n",
       "    <tr>\n",
       "      <th>4</th>\n",
       "      <td>2014-10-31</td>\n",
       "      <td>1005</td>\n",
       "      <td>0</td>\n",
       "      <td>309</td>\n",
       "      <td>395</td>\n",
       "      <td>6</td>\n",
       "      <td>303</td>\n",
       "      <td>6</td>\n",
       "      <td>15</td>\n",
       "      <td>2045</td>\n",
       "      <td>...</td>\n",
       "      <td>23160</td>\n",
       "      <td>320</td>\n",
       "      <td>50</td>\n",
       "      <td>2667</td>\n",
       "      <td>0</td>\n",
       "      <td>47</td>\n",
       "      <td>65535</td>\n",
       "      <td>221</td>\n",
       "      <td>4</td>\n",
       "      <td>0</td>\n",
       "    </tr>\n",
       "  </tbody>\n",
       "</table>\n",
       "<p>5 rows × 24 columns</p>\n",
       "</div>"
      ],
      "text/plain": [
       "        hour    C1  banner_pos  site_id  site_domain  site_category  app_id  \\\n",
       "0 2014-10-31  1005           0      906          892             13     470   \n",
       "1 2014-10-31  1005           0       69          489              3     470   \n",
       "2 2014-10-31  1005           0       69          489              3     470   \n",
       "3 2014-10-31  1005           0      309          395              6     160   \n",
       "4 2014-10-31  1005           0      309          395              6     303   \n",
       "\n",
       "   app_domain  app_category  device_id     ...         C14  C15  C16   C17  \\\n",
       "0          19             1       2045     ...        8330  320   50   761   \n",
       "1          19             1       2045     ...       22676  320   50  2616   \n",
       "2          19             1       2045     ...       22676  320   50  2616   \n",
       "3          27             3       2045     ...       18648  320   50  1092   \n",
       "4           6            15       2045     ...       23160  320   50  2667   \n",
       "\n",
       "   C18  C19    C20  C21  day_of_week  hour_of_day  \n",
       "0    3  175  34539   23            4            0  \n",
       "1    0   35  34547   51            4            0  \n",
       "2    0   35  34547   51            4            0  \n",
       "3    3  809  34620   61            4            0  \n",
       "4    0   47  65535  221            4            0  \n",
       "\n",
       "[5 rows x 24 columns]"
      ]
     },
     "execution_count": 24,
     "metadata": {},
     "output_type": "execute_result"
    }
   ],
   "source": [
    "def create_date_features(data):\n",
    "    data['hour'] = pd.to_datetime(data['hour'], format='%y%m%d%H')\n",
    "    data['day_of_week'] = data['hour'].dt.weekday\n",
    "    data['hour_of_day'] = data['hour'].dt.hour    \n",
    "\n",
    "create_date_features(data)\n",
    "create_date_features(test)\n",
    "\n",
    "test.head()\n",
    "\n",
    "# data.isnull().sum()\n",
    "# data.info(memory_usage=True,verbose = False)"
   ]
  },
  {
   "cell_type": "markdown",
   "metadata": {},
   "source": [
    "### Splitting train into train and validation"
   ]
  },
  {
   "cell_type": "code",
   "execution_count": 25,
   "metadata": {},
   "outputs": [],
   "source": [
    "train, val = split_based_hour(data)\n",
    "del data\n",
    "train = train.drop(['hour', 'index'], axis = 1)\n",
    "val = val.drop(['hour', 'index'], axis = 1)\n",
    "test = test.drop(['hour'], axis = 1)"
   ]
  },
  {
   "cell_type": "code",
   "execution_count": 26,
   "metadata": {},
   "outputs": [
    {
     "data": {
      "text/plain": [
       "((32343173, 24), (8085794, 24), (4577464, 23))"
      ]
     },
     "execution_count": 26,
     "metadata": {},
     "output_type": "execute_result"
    }
   ],
   "source": [
    "train.shape, val.shape, test.shape"
   ]
  },
  {
   "cell_type": "markdown",
   "metadata": {},
   "source": [
    "### Target encoding of the train, validation and test sets"
   ]
  },
  {
   "cell_type": "code",
   "execution_count": 27,
   "metadata": {
    "nbgrader": {
     "checksum": "7a342519715706a0152213f7bd22ccc1",
     "grade": false,
     "grade_id": "cell-775e47f5b0194cbe",
     "locked": false,
     "schema_version": 1,
     "solution": true
    }
   },
   "outputs": [],
   "source": [
    "from sklearn.model_selection import KFold\n",
    "\n",
    "def reg_target_encoding(train, col = \"device_type\", splits=5):\n",
    "    \"\"\" Computes regularize mean encoding.\n",
    "    Inputs:\n",
    "       train: training dataframe\n",
    "       \n",
    "    \"\"\"\n",
    "    # YOUR CODE HERE\n",
    "    col_name = col + '_mean_enc'\n",
    "    kf = KFold(n_splits = splits, shuffle = False, random_state = 2)\n",
    "    s = kf.split(train)\n",
    "    for i in range(splits):\n",
    "        train_index, test_index = next(s)\n",
    "        mean_device_type = train.loc[train_index].groupby(col).click.mean()\n",
    "        train.loc[test_index,col_name] = train[col].map(mean_device_type)\n",
    "    global_mean = train.click.mean()\n",
    "    train[col_name].fillna(global_mean, inplace=True)\n",
    "    train[col_name] = train[col_name].astype(np.float32)\n",
    "    #raise NotImplementedError()"
   ]
  },
  {
   "cell_type": "code",
   "execution_count": 28,
   "metadata": {},
   "outputs": [],
   "source": [
    "def mean_encoding_test(test, train, col = \"device_type\"):\n",
    "    \"\"\" Computes target enconding for test data.\n",
    "    \n",
    "    This is similar to how we do validation\n",
    "    \"\"\"\n",
    "    # YOUR CODE HERE\n",
    "    col_name = col + '_mean_enc'\n",
    "    mean_device_type = train.groupby(col).click.mean()\n",
    "    global_mean = train.click.mean()\n",
    "    test[col_name] = test[col].map(mean_device_type)\n",
    "    test[col_name].fillna(global_mean, inplace=True)\n",
    "    test[col_name] = test[col_name].astype(np.float32)\n",
    "\n",
    "    #raise NotImplementedError()"
   ]
  },
  {
   "cell_type": "code",
   "execution_count": 29,
   "metadata": {},
   "outputs": [
    {
     "name": "stdout",
     "output_type": "stream",
     "text": [
      "banner_pos\n",
      "site_id\n",
      "site_domain\n",
      "site_category\n",
      "app_id\n",
      "app_domain\n",
      "app_category\n",
      "device_id\n",
      "device_ip\n",
      "device_model\n",
      "device_type\n",
      "device_conn_type\n",
      "C14\n",
      "C15\n",
      "C16\n",
      "C17\n",
      "C18\n",
      "C19\n",
      "C20\n",
      "C21\n",
      "day_of_week\n",
      "hour_of_day\n"
     ]
    }
   ],
   "source": [
    "enc_cols = train.columns[2:]\n",
    "for col in enc_cols:\n",
    "    print(col)\n",
    "    reg_target_encoding(train, col)\n",
    "    mean_encoding_test(test=val, train=train, col = col)\n",
    "    mean_encoding_test(test=test, train=train, col = col)\n",
    "# train.head()    "
   ]
  },
  {
   "cell_type": "markdown",
   "metadata": {},
   "source": [
    "### Plots and value_counts()"
   ]
  },
  {
   "cell_type": "code",
   "execution_count": 30,
   "metadata": {},
   "outputs": [
    {
     "data": {
      "text/plain": [
       "7                banner_pos\n",
       "4551                site_id\n",
       "7297            site_domain\n",
       "26            site_category\n",
       "8094                 app_id\n",
       "539              app_domain\n",
       "36             app_category\n",
       "2216415           device_id\n",
       "5563626           device_ip\n",
       "8036           device_model\n",
       "5               device_type\n",
       "4          device_conn_type\n",
       "2252                    C14\n",
       "8                       C15\n",
       "9                       C16\n",
       "372                     C17\n",
       "4                       C18\n",
       "63                      C19\n",
       "172                     C20\n",
       "52                      C21\n",
       "7               day_of_week\n",
       "24              hour_of_day\n",
       "dtype: object"
      ]
     },
     "execution_count": 30,
     "metadata": {},
     "output_type": "execute_result"
    }
   ],
   "source": [
    "cats = []\n",
    "for col in enc_cols:\n",
    "    cats.append(len(train[col].value_counts()))\n",
    "pd.Series(enc_cols, cats)    "
   ]
  },
  {
   "cell_type": "code",
   "execution_count": 31,
   "metadata": {},
   "outputs": [
    {
     "data": {
      "text/plain": [
       "<Container object of 22 artists>"
      ]
     },
     "execution_count": 31,
     "metadata": {},
     "output_type": "execute_result"
    },
    {
     "data": {
      "image/png": "[encoded data removed]",
      "text/plain": [
       "<matplotlib.figure.Figure at 0x7f1720a4feb8>"
      ]
     },
     "metadata": {},
     "output_type": "display_data"
    }
   ],
   "source": [
    "plt.barh(enc_cols, cats)"
   ]
  },
  {
   "cell_type": "markdown",
   "metadata": {},
   "source": [
    "We can see that `device_ip` and `device_id` have too many levels. So we can remove their mean encoded columns."
   ]
  },
  {
   "cell_type": "code",
   "execution_count": 32,
   "metadata": {},
   "outputs": [],
   "source": [
    "train = train.drop(['device_ip_mean_enc', 'device_id_mean_enc'], axis = 1)\n",
    "val = val.drop(['device_ip_mean_enc', 'device_id_mean_enc'], axis = 1)\n",
    "test = test.drop(['device_ip_mean_enc', 'device_id_mean_enc'], axis = 1)"
   ]
  },
  {
   "cell_type": "code",
   "execution_count": 33,
   "metadata": {},
   "outputs": [
    {
     "data": {
      "text/html": [
       "<div>\n",
       "<style scoped>\n",
       "    .dataframe tbody tr th:only-of-type {\n",
       "        vertical-align: middle;\n",
       "    }\n",
       "\n",
       "    .dataframe tbody tr th {\n",
       "        vertical-align: top;\n",
       "    }\n",
       "\n",
       "    .dataframe thead th {\n",
       "        text-align: right;\n",
       "    }\n",
       "</style>\n",
       "<table border=\"1\" class=\"dataframe\">\n",
       "  <thead>\n",
       "    <tr style=\"text-align: right;\">\n",
       "      <th></th>\n",
       "      <th>click</th>\n",
       "      <th>C1</th>\n",
       "      <th>banner_pos</th>\n",
       "      <th>site_id</th>\n",
       "      <th>site_domain</th>\n",
       "      <th>site_category</th>\n",
       "      <th>app_id</th>\n",
       "      <th>app_domain</th>\n",
       "      <th>app_category</th>\n",
       "      <th>device_id</th>\n",
       "      <th>...</th>\n",
       "      <th>C14_mean_enc</th>\n",
       "      <th>C15_mean_enc</th>\n",
       "      <th>C16_mean_enc</th>\n",
       "      <th>C17_mean_enc</th>\n",
       "      <th>C18_mean_enc</th>\n",
       "      <th>C19_mean_enc</th>\n",
       "      <th>C20_mean_enc</th>\n",
       "      <th>C21_mean_enc</th>\n",
       "      <th>day_of_week_mean_enc</th>\n",
       "      <th>hour_of_day_mean_enc</th>\n",
       "    </tr>\n",
       "  </thead>\n",
       "  <tbody>\n",
       "    <tr>\n",
       "      <th>0</th>\n",
       "      <td>0</td>\n",
       "      <td>1005</td>\n",
       "      <td>0</td>\n",
       "      <td>69</td>\n",
       "      <td>489</td>\n",
       "      <td>3</td>\n",
       "      <td>470</td>\n",
       "      <td>19</td>\n",
       "      <td>1</td>\n",
       "      <td>2045</td>\n",
       "      <td>...</td>\n",
       "      <td>0.145022</td>\n",
       "      <td>0.1597</td>\n",
       "      <td>0.159448</td>\n",
       "      <td>0.188802</td>\n",
       "      <td>0.161420</td>\n",
       "      <td>0.177091</td>\n",
       "      <td>0.197646</td>\n",
       "      <td>0.188664</td>\n",
       "      <td>0.152223</td>\n",
       "      <td>0.184356</td>\n",
       "    </tr>\n",
       "    <tr>\n",
       "      <th>1</th>\n",
       "      <td>0</td>\n",
       "      <td>1010</td>\n",
       "      <td>1</td>\n",
       "      <td>309</td>\n",
       "      <td>395</td>\n",
       "      <td>6</td>\n",
       "      <td>500</td>\n",
       "      <td>19</td>\n",
       "      <td>3</td>\n",
       "      <td>2051</td>\n",
       "      <td>...</td>\n",
       "      <td>0.171469</td>\n",
       "      <td>0.1597</td>\n",
       "      <td>0.159448</td>\n",
       "      <td>0.171469</td>\n",
       "      <td>0.156287</td>\n",
       "      <td>0.177091</td>\n",
       "      <td>0.197646</td>\n",
       "      <td>0.271211</td>\n",
       "      <td>0.152223</td>\n",
       "      <td>0.184356</td>\n",
       "    </tr>\n",
       "    <tr>\n",
       "      <th>2</th>\n",
       "      <td>0</td>\n",
       "      <td>1005</td>\n",
       "      <td>0</td>\n",
       "      <td>69</td>\n",
       "      <td>489</td>\n",
       "      <td>3</td>\n",
       "      <td>470</td>\n",
       "      <td>19</td>\n",
       "      <td>1</td>\n",
       "      <td>2045</td>\n",
       "      <td>...</td>\n",
       "      <td>0.197214</td>\n",
       "      <td>0.1597</td>\n",
       "      <td>0.159448</td>\n",
       "      <td>0.188802</td>\n",
       "      <td>0.161420</td>\n",
       "      <td>0.177091</td>\n",
       "      <td>0.197646</td>\n",
       "      <td>0.188664</td>\n",
       "      <td>0.152223</td>\n",
       "      <td>0.184356</td>\n",
       "    </tr>\n",
       "    <tr>\n",
       "      <th>3</th>\n",
       "      <td>0</td>\n",
       "      <td>1005</td>\n",
       "      <td>1</td>\n",
       "      <td>309</td>\n",
       "      <td>395</td>\n",
       "      <td>6</td>\n",
       "      <td>423</td>\n",
       "      <td>6</td>\n",
       "      <td>3</td>\n",
       "      <td>2045</td>\n",
       "      <td>...</td>\n",
       "      <td>0.119682</td>\n",
       "      <td>0.1597</td>\n",
       "      <td>0.159448</td>\n",
       "      <td>0.119682</td>\n",
       "      <td>0.161420</td>\n",
       "      <td>0.119682</td>\n",
       "      <td>0.119892</td>\n",
       "      <td>0.107320</td>\n",
       "      <td>0.152223</td>\n",
       "      <td>0.184356</td>\n",
       "    </tr>\n",
       "    <tr>\n",
       "      <th>4</th>\n",
       "      <td>1</td>\n",
       "      <td>1005</td>\n",
       "      <td>0</td>\n",
       "      <td>336</td>\n",
       "      <td>351</td>\n",
       "      <td>5</td>\n",
       "      <td>470</td>\n",
       "      <td>19</td>\n",
       "      <td>1</td>\n",
       "      <td>2045</td>\n",
       "      <td>...</td>\n",
       "      <td>0.269599</td>\n",
       "      <td>0.1597</td>\n",
       "      <td>0.159448</td>\n",
       "      <td>0.269599</td>\n",
       "      <td>0.161420</td>\n",
       "      <td>0.248245</td>\n",
       "      <td>0.170657</td>\n",
       "      <td>0.271211</td>\n",
       "      <td>0.152223</td>\n",
       "      <td>0.184356</td>\n",
       "    </tr>\n",
       "  </tbody>\n",
       "</table>\n",
       "<p>5 rows × 44 columns</p>\n",
       "</div>"
      ],
      "text/plain": [
       "   click    C1  banner_pos  site_id  site_domain  site_category  app_id  \\\n",
       "0      0  1005           0       69          489              3     470   \n",
       "1      0  1010           1      309          395              6     500   \n",
       "2      0  1005           0       69          489              3     470   \n",
       "3      0  1005           1      309          395              6     423   \n",
       "4      1  1005           0      336          351              5     470   \n",
       "\n",
       "   app_domain  app_category  device_id          ...           C14_mean_enc  \\\n",
       "0          19             1       2045          ...               0.145022   \n",
       "1          19             3       2051          ...               0.171469   \n",
       "2          19             1       2045          ...               0.197214   \n",
       "3           6             3       2045          ...               0.119682   \n",
       "4          19             1       2045          ...               0.269599   \n",
       "\n",
       "   C15_mean_enc  C16_mean_enc  C17_mean_enc  C18_mean_enc  C19_mean_enc  \\\n",
       "0        0.1597      0.159448      0.188802      0.161420      0.177091   \n",
       "1        0.1597      0.159448      0.171469      0.156287      0.177091   \n",
       "2        0.1597      0.159448      0.188802      0.161420      0.177091   \n",
       "3        0.1597      0.159448      0.119682      0.161420      0.119682   \n",
       "4        0.1597      0.159448      0.269599      0.161420      0.248245   \n",
       "\n",
       "   C20_mean_enc  C21_mean_enc  day_of_week_mean_enc  hour_of_day_mean_enc  \n",
       "0      0.197646      0.188664              0.152223              0.184356  \n",
       "1      0.197646      0.271211              0.152223              0.184356  \n",
       "2      0.197646      0.188664              0.152223              0.184356  \n",
       "3      0.119892      0.107320              0.152223              0.184356  \n",
       "4      0.170657      0.271211              0.152223              0.184356  \n",
       "\n",
       "[5 rows x 44 columns]"
      ]
     },
     "execution_count": 33,
     "metadata": {},
     "output_type": "execute_result"
    }
   ],
   "source": [
    "train.head()"
   ]
  },
  {
   "cell_type": "markdown",
   "metadata": {},
   "source": [
    "### Random forest"
   ]
  },
  {
   "cell_type": "code",
   "execution_count": 34,
   "metadata": {},
   "outputs": [],
   "source": [
    "y_train = train['click']\n",
    "X_train = train.drop(['click'], axis = 1)\n",
    "\n",
    "y_val = val['click']\n",
    "X_val = val.drop(['click'], axis = 1)\n",
    "\n",
    "del train, val"
   ]
  },
  {
   "cell_type": "code",
   "execution_count": 35,
   "metadata": {},
   "outputs": [],
   "source": [
    "def set_rf_samples(n):\n",
    "    \"\"\" Changes Scikit learn's random forests to give each tree a random sample of\n",
    "    n random rows.\n",
    "    \"\"\"\n",
    "    forest._generate_sample_indices = (lambda rs, n_samples:\n",
    "        forest.check_random_state(rs).randint(0, n_samples, n))"
   ]
  },
  {
   "cell_type": "code",
   "execution_count": 36,
   "metadata": {},
   "outputs": [],
   "source": [
    "from sklearn.ensemble import forest"
   ]
  },
  {
   "cell_type": "code",
   "execution_count": 37,
   "metadata": {},
   "outputs": [],
   "source": [
    "set_rf_samples(400000)"
   ]
  },
  {
   "cell_type": "markdown",
   "metadata": {},
   "source": [
    "### Baseline model"
   ]
  },
  {
   "cell_type": "code",
   "execution_count": 38,
   "metadata": {},
   "outputs": [],
   "source": [
    "clf = RandomForestClassifier(random_state=10)"
   ]
  },
  {
   "cell_type": "code",
   "execution_count": 39,
   "metadata": {},
   "outputs": [
    {
     "data": {
      "text/plain": [
       "RandomForestClassifier(bootstrap=True, class_weight=None, criterion='gini',\n",
       "            max_depth=None, max_features='auto', max_leaf_nodes=None,\n",
       "            min_impurity_decrease=0.0, min_impurity_split=None,\n",
       "            min_samples_leaf=1, min_samples_split=2,\n",
       "            min_weight_fraction_leaf=0.0, n_estimators=10, n_jobs=1,\n",
       "            oob_score=False, random_state=10, verbose=0, warm_start=False)"
      ]
     },
     "execution_count": 39,
     "metadata": {},
     "output_type": "execute_result"
    }
   ],
   "source": [
    "clf.fit(X_train,y_train)"
   ]
  },
  {
   "cell_type": "code",
   "execution_count": 40,
   "metadata": {},
   "outputs": [
    {
     "name": "stdout",
     "output_type": "stream",
     "text": [
      "Training loss : 0.8798173968730889\n"
     ]
    }
   ],
   "source": [
    "pred_train = clf.predict_proba(X_train)[:,1]\n",
    "loss = log_loss(y_train, pred_train)\n",
    "print('Training loss : ' + str(loss))"
   ]
  },
  {
   "cell_type": "code",
   "execution_count": 41,
   "metadata": {},
   "outputs": [
    {
     "name": "stdout",
     "output_type": "stream",
     "text": [
      "Validation loss : 0.7513659043519985\n"
     ]
    }
   ],
   "source": [
    "pred_val = clf.predict_proba(X_val)[:,1]\n",
    "loss = log_loss(y_val, pred_val)\n",
    "print('Validation loss : ' + str(loss))"
   ]
  },
  {
   "cell_type": "markdown",
   "metadata": {},
   "source": [
    "### Parameter tuning"
   ]
  },
  {
   "cell_type": "code",
   "execution_count": 46,
   "metadata": {},
   "outputs": [],
   "source": [
    "clf = RandomForestClassifier(random_state=10, min_samples_leaf = 3, n_estimators = 40)"
   ]
  },
  {
   "cell_type": "code",
   "execution_count": 47,
   "metadata": {},
   "outputs": [
    {
     "data": {
      "text/plain": [
       "RandomForestClassifier(bootstrap=True, class_weight=None, criterion='gini',\n",
       "            max_depth=None, max_features='auto', max_leaf_nodes=None,\n",
       "            min_impurity_decrease=0.0, min_impurity_split=None,\n",
       "            min_samples_leaf=3, min_samples_split=2,\n",
       "            min_weight_fraction_leaf=0.0, n_estimators=40, n_jobs=1,\n",
       "            oob_score=False, random_state=10, verbose=0, warm_start=False)"
      ]
     },
     "execution_count": 47,
     "metadata": {},
     "output_type": "execute_result"
    }
   ],
   "source": [
    "clf.fit(X_train,y_train)"
   ]
  },
  {
   "cell_type": "code",
   "execution_count": null,
   "metadata": {},
   "outputs": [],
   "source": [
    "pred_train = clf.predict_proba(X_train)[:,1]\n",
    "loss = log_loss(y_train, pred_train)\n",
    "print('Training loss : ' + str(loss))"
   ]
  },
  {
   "cell_type": "code",
   "execution_count": null,
   "metadata": {},
   "outputs": [],
   "source": [
    "pred_val = clf.predict_proba(X_val)[:,1]\n",
    "loss = log_loss(y_val, pred_val)\n",
    "print('Validation loss : ' + str(loss))"
   ]
  },
  {
   "cell_type": "code",
   "execution_count": null,
   "metadata": {},
   "outputs": [],
   "source": [
    "pred_test = clf.predict_proba(test)[:,1]\n",
    "sub = pd.read_csv(path + 'sampleSubmission')\n",
    "sub.click = pred_test\n",
    "sub.to_csv('sub.csv', index=False)\n",
    "sub.head()"
   ]
  },
  {
   "cell_type": "code",
   "execution_count": null,
   "metadata": {
    "deletable": false,
    "nbgrader": {
     "checksum": "774022487d3cee6a5d3737ef7b0124a3",
     "grade": true,
     "grade_id": "cell-9ed772e2cb29616a",
     "locked": false,
     "points": 0,
     "schema_version": 1,
     "solution": true
    }
   },
   "outputs": [],
   "source": [
    "# YOUR CODE HERE\n",
    "raise NotImplementedError()"
   ]
  }
 ],
 "metadata": {
  "kernelspec": {
   "display_name": "Python 3",
   "language": "python",
   "name": "python3"
  },
  "language_info": {
   "codemirror_mode": {
    "name": "ipython",
    "version": 3
   },
   "file_extension": ".py",
   "mimetype": "text/x-python",
   "name": "python",
   "nbconvert_exporter": "python",
   "pygments_lexer": "ipython3",
   "version": "3.6.4"
  },
  "toc": {
   "nav_menu": {},
   "number_sections": true,
   "sideBar": true,
   "skip_h1_title": false,
   "toc_cell": false,
   "toc_position": {},
   "toc_section_display": "block",
   "toc_window_display": false
  }
 },
 "nbformat": 4,
 "nbformat_minor": 2
}
